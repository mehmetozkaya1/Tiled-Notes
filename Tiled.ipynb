{
  "nbformat": 4,
  "nbformat_minor": 0,
  "metadata": {
    "colab": {
      "provenance": []
    },
    "kernelspec": {
      "name": "python3",
      "display_name": "Python 3"
    },
    "language_info": {
      "name": "python"
    }
  },
  "cells": [
    {
      "cell_type": "markdown",
      "source": [
        "# Tiled Nedir?"
      ],
      "metadata": {
        "id": "DdmkD4wu92lW"
      }
    },
    {
      "cell_type": "markdown",
      "source": [
        "Tiled, geliştirmiş olduğunuz oyunlarınız için harita tasarımı yapabileceğiniz ücretsiz bir programdır."
      ],
      "metadata": {
        "id": "ua7xNCpd9sbe"
      }
    },
    {
      "cell_type": "markdown",
      "source": [
        "# Bölüm Tasarımı:"
      ],
      "metadata": {
        "id": "-yl4dyB_98qc"
      }
    },
    {
      "cell_type": "markdown",
      "source": [
        "Tiled içerisinde bölüm tasarlayabilmeniz için üç ana başlığa göz atmanız gerekir. Bunlardan ilki map yani haritanızdır. İkincisi ise renkler ve fırçalardır. Renkler Tiled içerisinde Tilesets olarak adlandırılır. Tileset'leri indireceğiz ve indirdikten sonra haritamız üzerinde çizim yapacağız. Aslında map'i bir tuval ve Tileset'i ise boyalar olarak düşünebiliriz. Fırçalar ise Tiled Tools'larıdır ve farklı seçimler yapabilmenize olanak sağlar."
      ],
      "metadata": {
        "id": "tXDOOy9s9_aF"
      }
    },
    {
      "cell_type": "markdown",
      "source": [
        "# Yeni bir harita oluşturmak:"
      ],
      "metadata": {
        "id": "PsRrOwH_-t5d"
      }
    },
    {
      "cell_type": "markdown",
      "source": [
        "Yeni bir harita oluşturabilmek için Tiled üzerinden New map butonuna tıklamanız yeterlidir. Butona tıkladıktan sonra map ayarları için size bir ekran çıkacak. Hepsini tek tek inceleyelim."
      ],
      "metadata": {
        "id": "PW37HBOg-wyV"
      }
    },
    {
      "cell_type": "markdown",
      "source": [
        "## Orientation:"
      ],
      "metadata": {
        "id": "XcqcSHra_IEF"
      }
    },
    {
      "cell_type": "markdown",
      "source": [
        "Orientation haritanızın oryantasyonudur ve üç farklı seçeneği vardır:"
      ],
      "metadata": {
        "id": "uQ1dancz_LzV"
      }
    },
    {
      "cell_type": "markdown",
      "source": [
        "1-) Orthogonal: Orthogonal oryantasyonlu harita default harita tercihidir. Bu harita türünde kare bloklar kullanarak haritanızı oluşturabilirsiniz. Zelda ve Mario oyunları bu tarz harita türleriyle oluşturulmuş oyunlardır.\n",
        "\n",
        "2-) Isometric: Isometrik oryantasyonlu harita ise oyun haritasına 45 derece yatay olarak bakıyor olduğunuz harita türüdür. SimCity'nin ve FF oyunlarının bazıları bu harita türü ile oluşturulmuştur.\n",
        "\n",
        "3-) Hexagonal (staggered): Hexagonal oryantasyonlu harita türü ise genel haritanın altıgen parçalar ile oluşturulmuş halidir. Civilizations gibi oyunlar bu tür harita kullanırlar."
      ],
      "metadata": {
        "id": "CRgl_zar_QrF"
      }
    },
    {
      "cell_type": "markdown",
      "source": [
        "Tile Layer Format ve Tile Render Order seçenekleri çok önemli olmayan seçeneklerdir. Başlangıç seviyesi için bu ayarların pek bir önemi yoktur."
      ],
      "metadata": {
        "id": "BF830hBLAM7M"
      }
    },
    {
      "cell_type": "markdown",
      "source": [
        "! Isometric bir harita oluşturacaksanız ona özel olarak tasarlanmış 3 boyutlu TileSet'ler kullanmalısınız. Ardından tileset'inize göre her bir Tile boyutunu ayarlamalı ve ardından haritanızı oluşturmalısınız."
      ],
      "metadata": {
        "id": "mhzOAGZMb5WT"
      }
    },
    {
      "cell_type": "markdown",
      "source": [
        "! Isometric harita oluşturacaksanız Tile Size'ınızı ayarlarken her bir Tile genişliğini TileSet'inizin aynısını yaparken, Tile yüksekliğini yarısı yapmalısınız. Ve TileSet'inizi Tiled'a yüklerken collection of images şeklinde yüklemelisiniz."
      ],
      "metadata": {
        "id": "PIve6KC5cPvy"
      }
    },
    {
      "cell_type": "markdown",
      "source": [
        "Eğer isometric bir harita yapacaksanız ve üst üste bir şeyler koymak istiyorsanız, üste koyacağınız varlıklar için yeni bir Layer oluşturmalısınız."
      ],
      "metadata": {
        "id": "T_Xcb3W5dEEi"
      }
    },
    {
      "cell_type": "markdown",
      "source": [
        "## Map size:"
      ],
      "metadata": {
        "id": "ryo1xv_oApuc"
      }
    },
    {
      "cell_type": "markdown",
      "source": [
        "Map size ile harita boyutunuzu ayarlayabilirsiniz. Tiled programında her harita Tiles denen daha küçük parçalardan oluşur. Bu kısımda haritanızın dikey ve yatay ekseninde kaç tane Tile bulunacağını belirleyebilirsiniz."
      ],
      "metadata": {
        "id": "BOXpc57XArUc"
      }
    },
    {
      "cell_type": "markdown",
      "source": [
        "## Tile Size:"
      ],
      "metadata": {
        "id": "hvOEKV0KBXZc"
      }
    },
    {
      "cell_type": "markdown",
      "source": [
        "Tile Size ile haritanızı oluşturan her bir Tile nesnesinin boyutunun kaç pixel olacağını ayarlayabilirsiniz. Oyununuzun boyutlarına göre bu ayarlamaları yaptıktan sonra haritanızı oluşturabilirsiniz."
      ],
      "metadata": {
        "id": "sADXPd4gBYpc"
      }
    },
    {
      "cell_type": "markdown",
      "source": [
        "Tile size'ı yüklediğiniz Tileset'e göre ayarlamalısınız. Genellikle 32x32, 64x64, 128x128 şeklinde olur."
      ],
      "metadata": {
        "id": "9auNJmgjCPH0"
      }
    },
    {
      "cell_type": "markdown",
      "source": [
        "# Genel Notlar:"
      ],
      "metadata": {
        "id": "59vUW6goYmrL"
      }
    },
    {
      "cell_type": "markdown",
      "source": [
        "Tiled içerisinde farklı birimler oluştururken farklı layer'lar kullanmalısınız. Örneğin zemin için bir layer ve üzerindeki patika yollar için farklı bir layer kullanabilirsiniz. Böylelikle Tile'ları üst üste ekleyebilir ve karmaşanın önüne geçersiniz."
      ],
      "metadata": {
        "id": "TcQCpO0KYot7"
      }
    },
    {
      "cell_type": "markdown",
      "source": [
        "Ayrıca yapacağınız oyunda karakter ile etkileşime geçmesini istediğiniz çalı, ağaç, kale, kule gibi oluşumları object olarak ayarlamalısınız."
      ],
      "metadata": {
        "id": "Ykt0EHISY68c"
      }
    },
    {
      "cell_type": "markdown",
      "source": [
        "Tiled'da daha kolay haritalar oluşturabilmek için Tiled içerisinde terrain adı verilen oluşumla Tile'larınızı birbirine çok daha kolay bir biçimde bağlayabilir ve zamandan kazanabilirsiniz."
      ],
      "metadata": {
        "id": "8h8yrSqLZDw7"
      }
    },
    {
      "cell_type": "markdown",
      "source": [
        "Tiled'da oluşturduğunuz haritanızı 3 farklı şekilde kullanabilirsiniz. (export edebilirsiniz.) Biri png yani resim dosyası olarak kullanma. Bir diğer dosyayı farklı dosya uzantıları ile kullanma ve son olarak da normal bir şekilde export etmektir."
      ],
      "metadata": {
        "id": "fHwN4Pk9ZO6z"
      }
    },
    {
      "cell_type": "markdown",
      "source": [
        "Haritanızı birden çok uzantıyla kullanabilirsiniz. Bunlar JS, csv , tmx, json gibi dosya uzantılarıdır. "
      ],
      "metadata": {
        "id": "BSuZDIlRZtaL"
      }
    },
    {
      "cell_type": "markdown",
      "source": [
        "Csv dosyası olarak kaydederseniz, Tiled sizin oluşturmuş olduğunuz haritayı Layer'larından parçalayarak hepsini ayrı bir csv dosyası haline getirir. Her bir csv dosyası ise harita bilgilerini varlıkların konumlarına göre virgüllerle ayrılmış veri içerir. Bu veriler varlıkların id numaralarına göre konumlandırılmış verilerdir."
      ],
      "metadata": {
        "id": "rzpfzOvMaTFD"
      }
    },
    {
      "cell_type": "markdown",
      "source": [
        "# Pygame İçerisinde Kullanma:"
      ],
      "metadata": {
        "id": "r1n54tkQdqhq"
      }
    },
    {
      "cell_type": "markdown",
      "source": [
        "Dosyanınızı iki farklı şekilde kullanabilirsiniz. Ya csv/json şeklinde (id numarası yardımıyla her bir nesneye tek tek ulaşabilirsiniz.) ya da pytmx kütüphanesini kullanarak yukarıdaki işlemin tamamını bizim için yapan bir araç çağırabilirsiniz."
      ],
      "metadata": {
        "id": "Mrt8m9b0dtFy"
      }
    },
    {
      "cell_type": "code",
      "source": [
        "import pygame, sys\n",
        "from pytmx.util_pygame import load_pygame # İhtiyacımız olan modül içerisinden istediğimiz metodu import ediyoruz.\n",
        "\n",
        "class Tile(pygame.sprite.Sprite): # Bir Tile class'ı oluşturuyoruz. Sprite'lardan kalıtım alacak.\n",
        "    def __init__(self,pos,surf,groups): # Hepsi için bir pozisyon, surface ve groups değeri veriyoruz.\n",
        "        super().__init__(groups) # Sprite class'ını init ediyoruz.\n",
        "        self.image = surf # Fotoğrafını ayarlıyoruz.\n",
        "        self.rect = self.image.get_rect(topleft = pos) # Ve bir rect oluşturuyoruz.\n",
        "\n",
        "pygame.init() # Pygame'i init ediyoruz. (başlatıyoruz.)\n",
        "screen = pygame.display.set_mode((1280,720)) # Oyunun ekran boyutunu ayarlıyoruz.\n",
        "tmx_data = load_pygame('data/tmx/basic.tmx') # Oyun tmx dosyamızın konumunu vererek yüklüyoruz.\n",
        "sprite_group = pygame.sprite.Group() # Bir sprite grubu oluşturduk.\n",
        "# Sprite grubuna eleman ekleyip ekranımızda çizdirebiliriz.\n",
        "\n",
        "# Tüm layer'ları dönmek gezmek:\n",
        "for layer in tmx_data.visible_layers: # Tüm görünür layerlar arasından\n",
        "    # if layer.name in ('Floor','Plants and rocks','Pipes'): # Eğer layer adımız bu üçünden biri ise\n",
        "    if hasattr(layer,'data'): # Tile layer'lar data attr'ına sahipken objeler değil.\n",
        "        for x,y,surf in layer.tiles(): # Bu layer'ların her bir x,y ve surface'ları için\n",
        "            pos = (x * 128, y * 128) # Tile boyutumuz ile çarpıyoruz ki konumu elde edelim.\n",
        "            Tile(pos=pos,surf=surf, groups= sprite_group) # Ve bir Tile nesnesi oluşturuyor ve değişkenlerini veriyoruz.\n",
        "            # pos ile her bir tile pozisyonuna verdiğimiz özgü surface'ları veriyoruz.\n",
        "            # grup olarak ise de sprite_group'umuzu veriyoruz.\n",
        "\n",
        "# Objelerin çizimi:\n",
        "for obj in tmx_data.objects: # Tüm objeleri geziyoruz.\n",
        "    pos = (obj.x, obj.y) # Her bir objenin konumu\n",
        "    \"\"\" 1-\n",
        "    if obj.image: # Eğer bir image'ı varsa objenin (Marker ve Shape'lerin yok.)\n",
        "        surf = obj.image # Her bir objeye surface'ını veriyoruz.\n",
        "    Tile(pos= pos, surf= surf, groups= sprite_group)\n",
        "    \"\"\"\n",
        "    # 2-\n",
        "    if obj.type in ('Building','Vegetation'): # Eğer objenin türü bir building ya da vegetation ise.\n",
        "        surf = obj.image \n",
        "        Tile(pos= pos, surf= surf, groups= sprite_group)\n",
        "    \n",
        "\n",
        "\"\"\"\n",
        "# print(tmx_data) # Bir TiledMap objesi olduğunu görüyoruz.\n",
        "# print(dir(tmx_data)) # tmx_data üzerinden kullanabileceğimiz birçok özellik var.\n",
        "\n",
        "# Layer'lara ulaşmak:\n",
        "# print(tmx_data.layers) # Bu şekilde bu dosya içerisindeki tüm layer'ları görebiliriz.\n",
        "# print(tmx_data.visible_layers) # Görünür olan tüm layer'ları tek bir generator obje içerisinde toplar.\n",
        "# for layer in tmx_data.visible_layers: # Her bir visible_layer içerisinden\n",
        "#     print(layer) # Tüm layer'ları tek tek yazdır.\n",
        "# # !! Eğer Tiled içerisinde bir layer'ı görünmez yapar ve kaydederseniz visible layers içerisinde bulamazsınız.\n",
        "# # Görünmeyen layer olarak harita sınırları (borderları) kullanabilirsiniz.\n",
        "\n",
        "# print(tmx_data.layernames) # Tüm layer'ların isimlerini getirir.\n",
        "\n",
        "# print(tmx_data.get_layer_by_name('Floor')) # Layer ismiyle istenilen layer'ı çağırabiliriz.\n",
        "\n",
        "# for obj in tmx_data.objectgroups: # Tüm obje layerları içerisinden\n",
        "#     print(obj) # Tüm obje layerlarını yazdır.\n",
        "\n",
        "# Tile'ları getirmek\n",
        "layer = tmx_data.get_layer_by_name('Floor') # Floor layer'ımı layer değişkenine attım.\n",
        "# print(dir(layer)) # layer değişkeni üzerinden kullanabileceğimiz komutlara bakıyoruz.\n",
        "print(layer.tiles()) # Bu şekilde bir generator obje oluşturduk.\n",
        "\n",
        "for tile in layer.tiles(): # Tüm tile'lar için\n",
        "    print(tile) # Her bir tile'ı yaz.\n",
        "# Bu şekilde her bir Tile'ın konumunu x ve y şeklinde veren (haritadaki satır ve sütünda bulunan Tile sayısına göre)\n",
        "# ve içerisinde bir Surface bulunan tüm Tile'ları yazdırdık.\n",
        "\n",
        "for x,y,surf in layer.tiles(): # Tüm bilgiler için bu döngü yeterlidir.\n",
        "    print(x * 128)\n",
        "    print(y * 128)\n",
        "    print(surf)\n",
        "# Tüm Tile'ların x,y pozisyonları ve surface'larını yazdırdık.\n",
        "# Bu x ve y pozisyonları size sadece hangi satır ve sütun olduğunu verir. Oyununuz içerisinde bu değerleri her bir tile boyutu ile çarparak kullanmalısınız.\n",
        "# Bizim haritamızda her bir tile 128*128 büyüklüğünde bu yüzden 128 ile çarpmalıyız.\n",
        "\n",
        "print(layer.data) # data komutu ile bir csv dosyası olarak kullanabilirsiniz.\n",
        "\n",
        "print(layer.name) # Layer ismini yazdırır.\n",
        "print(layer.id) # Layer id'sini yazdırır.\n",
        "\n",
        "# Objeleri getirme:\n",
        "object_layer = tmx_data.get_layer_by_name('Objects') # Objects ismindeki layer'ı çağırıyorum. Bu layer aynı zamanda bir object layer'ı.\n",
        "print(dir(object_layer)) # Bu obje ile kullanabileceğimiz komutları görebiliriz.\n",
        "\n",
        "for obj in object_layer: # Obje layer'ı içerisinden\n",
        "    print(obj) # Tüm objeleri yazdır. Bu komut ile isimlerini tek tek alabiliriz.\n",
        "\n",
        "for obj in tmx_data.objects: # Yukarıdakinin aynısını bu şekilde de alabiliriz.\n",
        "    print(obj)\n",
        "\n",
        "print(dir(obj)) # Her bir obje için kullanabileceğimiz komuları görebiliriz.\n",
        "\n",
        "for obj in object_layer:\n",
        "    print(obj.x) # Her bir objenin x koordinatı. Bu x direkt koordinat bilgisi\n",
        "    print(obj.y) # Her bir objenin y koordinatı. Bu y direkt koordinat bilgisi\n",
        "    print(obj.image) # Her bir objenin surface'ı\n",
        "\n",
        "for obj in object_layer: # Her bir obje layer'ı içerisinden\n",
        "    if obj.type == 'Shape': # Obje türü Shape olan tüm objelerin verilen attr ver.\n",
        "        if obj.name == 'Marker': # Ve eğer obje ismi de marker ise\n",
        "            print(obj) # Tüm objeleri yazdır.\n",
        "            print(obj.x)\n",
        "            print(obj.y)\n",
        "        if obj.name == 'Rectangle':\n",
        "            print(obj)\n",
        "            print(obj.x)\n",
        "            print(obj.y)\n",
        "            print(obj.width) # Genişliği\n",
        "            print(obj.height) # Uznunluğu\n",
        "            print(obj.points) # Rect'in her bir köşesinin koordinatlarını döndürür.\n",
        "        if obj.name == 'Ellipse':\n",
        "            print(obj)\n",
        "        if obj.name == 'Polygon':\n",
        "            print(obj.as_points) # as_point rect'in konumlarını getirir.\n",
        "            print(obj.points) # Bu da poligonun konumlarını getirir.\n",
        "\n",
        "# Bu marker pozisyonlarını oyuncunuzun spawnlanması için kullanabilirsizniz.\n",
        "\"\"\"\n",
        "\n",
        "while True: # Oyunun çalışacağı sonsuz döngü\n",
        "    for event in pygame.event.get(): # pygame içerisindeki tüm event'ler için\n",
        "        if event.type == pygame.QUIT: # Eğer çıkma komutunu verdiysek.\n",
        "            pygame.quit() # Pygame'i durdur.\n",
        "            sys.exit() # Dosyalardan tamamen çıkış yap.\n",
        "    \n",
        "    screen.fill('black') # Ekranı siyaha boya\n",
        "    sprite_group.draw(screen) # Sprite grubunu ekranıma çizdiriyorum.\n",
        "    \n",
        "    for obj in tmx_data.objects: # Tüm objeleri geziyoruz.\n",
        "        pos = (obj.x, obj.y) # Her bir objenin konumu\n",
        "        if obj.type == 'Shape':\n",
        "            if obj.name == 'Marker': # Ve eğer obje ismi de marker ise\n",
        "                pygame.draw.circle(screen,'red',(obj.x,obj.y),5) # Her bir marker için r=5 olan bir çember çizdik.\n",
        "            if obj.name == 'Rectangle':\n",
        "                rect = pygame.Rect(obj.x,obj.y,obj.width,obj.height) # Gerçek bir rect'e çevirdik. (l,t,w,h)\n",
        "                pygame.draw.rect(screen,'yellow',rect) # Rect'i ekrana çizdiriyoruz.\n",
        "            if obj.name == 'Ellipse':\n",
        "                rect = pygame.Rect(obj.x,obj.y,obj.width,obj.height) # Bir rect oluşturdum.\n",
        "                pygame.draw.ellipse(screen,'blue',rect) # Ekrana çizdik.\n",
        "            if obj.name == 'Polygon':\n",
        "                points = [(point.x,point.y) for point in obj.points]\n",
        "                pygame.draw.polygon(screen,'green',points) # Ekrana çizdirdik.\n",
        "\n",
        "    pygame.display.update() # Ekran görüntüsünü sürekli olarak yenile."
      ],
      "metadata": {
        "id": "0A9H5H7CEOCL"
      },
      "execution_count": null,
      "outputs": []
    }
  ]
}